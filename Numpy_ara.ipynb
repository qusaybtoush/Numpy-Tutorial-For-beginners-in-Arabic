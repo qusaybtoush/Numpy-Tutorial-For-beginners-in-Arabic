{
 "cells": [
  {
   "cell_type": "markdown",
   "id": "domestic-promotion",
   "metadata": {},
   "source": [
    "# NumPy  "
   ]
  },
  {
   "cell_type": "markdown",
   "id": "swedish-repair",
   "metadata": {},
   "source": [
    "###### للمبتدئين"
   ]
  },
  {
   "cell_type": "markdown",
   "id": "reverse-stranger",
   "metadata": {},
   "source": [
    " هي مكتبة مفيدة للعمل مع البيانات الرقمية والعمليات الرياضية والعلمية.  من إجراء العمليات الرياضية على مصفوفات ومصفوفات متعددة الأبعاد بكفاءة عالية. تساعد  في تسهيل الحسابات الرياضية المعقدة وتوفير أدوات قوية للتعامل مع البيانات العددية.\n",
    " \n",
    "  تُستخدم على نطاق واسع في مجالات مثل علم البيانات والتعلم الآلي والحساب العلمي، وهي أساسية في برمجة  عند التعامل مع البيانات العددية.\n",
    "\n",
    "\n",
    "* اذا كان لدي اي سؤال تواصل معنا : Qusay AL-Btoush"
   ]
  },
  {
   "cell_type": "markdown",
   "id": "medium-track",
   "metadata": {},
   "source": [
    "* [https://github.com/qusaybtoush](http://)\n",
    "* [https://www.linkedin.com/in/qusayal-btoush/](http://)\n",
    "* [https://www.kaggle.com/qusaybtoush1990](http://)\n"
   ]
  },
  {
   "cell_type": "code",
   "execution_count": 1,
   "id": "prepared-twist",
   "metadata": {},
   "outputs": [],
   "source": [
    "# تحميل المكتبة\n",
    "import numpy as np"
   ]
  },
  {
   "cell_type": "code",
   "execution_count": 61,
   "id": "formed-wheat",
   "metadata": {},
   "outputs": [
    {
     "name": "stdout",
     "output_type": "stream",
     "text": [
      "[1 2 3 4 5]\n",
      "[ 4  5  8  9 10]\n"
     ]
    }
   ],
   "source": [
    "# انشاء مصفوفه\n",
    "x= np.array([1,2,3,4,5])\n",
    "y= np.array([4,5,8,9,10])\n",
    "print (x)\n",
    "print (y)"
   ]
  },
  {
   "cell_type": "code",
   "execution_count": 7,
   "id": "inappropriate-coffee",
   "metadata": {},
   "outputs": [
    {
     "name": "stdout",
     "output_type": "stream",
     "text": [
      "[[1. 1. 1. 1.]\n",
      " [1. 1. 1. 1.]\n",
      " [1. 1. 1. 1.]]\n"
     ]
    }
   ],
   "source": [
    "#انشاء مصفوفه تحتوي فقط على رقم واحد فقط اختر عدد الصفوف و عدد الاعمده \n",
    "one = np.ones((3,4)) # صفوف3 , 4 اعمده\n",
    "print(one)"
   ]
  },
  {
   "cell_type": "code",
   "execution_count": 9,
   "id": "alternate-consumption",
   "metadata": {},
   "outputs": [
    {
     "name": "stdout",
     "output_type": "stream",
     "text": [
      "[[0. 0. 0.]\n",
      " [0. 0. 0.]\n",
      " [0. 0. 0.]\n",
      " [0. 0. 0.]\n",
      " [0. 0. 0.]]\n"
     ]
    }
   ],
   "source": [
    "#انشاء مصفوفه تحتوي فقط على رقم صفر فقط اختر عدد الصفوف و عدد الاعمده \n",
    "ze = np.zeros((5,3)) #5 rows, 3 column/ 5صفوف\n",
    "print(ze)"
   ]
  },
  {
   "cell_type": "code",
   "execution_count": 11,
   "id": "hollywood-reserve",
   "metadata": {},
   "outputs": [
    {
     "name": "stdout",
     "output_type": "stream",
     "text": [
      "[[8 8 8 8 8 8]\n",
      " [8 8 8 8 8 8]\n",
      " [8 8 8 8 8 8]]\n"
     ]
    }
   ],
   "source": [
    "#انشاء مصفوفه تحتوي فقط على رقم الذي تريده فقط اختر عدد الصفوف و عدد الاعمده \n",
    "fu = np.full((3,6),8) # مصفوفه تحتوي على رقم 8 وعدد صفوف 3 وعدد الاعمده 6\n",
    "print(fu)"
   ]
  },
  {
   "cell_type": "code",
   "execution_count": 12,
   "id": "clinical-audit",
   "metadata": {},
   "outputs": [
    {
     "name": "stdout",
     "output_type": "stream",
     "text": [
      "[ 5 10 15 20 25 30]\n"
     ]
    }
   ],
   "source": [
    "#انشاء مصفوفه من رقم معين الى رقم معين بخطوات معينه ايضا\n",
    "st = np.arange(5,31,5) # تبدا المصفوفه من رقم 5 الى 31 و الخطوه 5\n",
    "print(st)"
   ]
  },
  {
   "cell_type": "code",
   "execution_count": 21,
   "id": "finished-rainbow",
   "metadata": {},
   "outputs": [
    {
     "name": "stdout",
     "output_type": "stream",
     "text": [
      "[1.  1.8 2.6 3.4 4.2 5. ]\n"
     ]
    }
   ],
   "source": [
    "#انشاء مصفوفه من الى رقم معي و عدد عناصر معين \n",
    "li = np.linspace(1,5,6) # مصفوفه من 1 الى 6 وعدد العناصر 6\n",
    "print(li)"
   ]
  },
  {
   "cell_type": "code",
   "execution_count": 24,
   "id": "engaged-grain",
   "metadata": {},
   "outputs": [
    {
     "data": {
      "text/plain": [
       "array([[1., 0., 0., 0.],\n",
       "       [0., 1., 0., 0.],\n",
       "       [0., 0., 1., 0.],\n",
       "       [0., 0., 0., 1.]])"
      ]
     },
     "execution_count": 24,
     "metadata": {},
     "output_type": "execute_result"
    }
   ],
   "source": [
    "# انشاء مصفوفه رقم الابعاد الذي تريده و رقم واحد بشكل قطر و الباقي اصفار\n",
    "np.eye(4)"
   ]
  },
  {
   "cell_type": "code",
   "execution_count": 31,
   "id": "steady-opportunity",
   "metadata": {},
   "outputs": [
    {
     "data": {
      "text/plain": [
       "array([[0.07635816, 0.99177734],\n",
       "       [0.23383263, 0.93246568]])"
      ]
     },
     "execution_count": 31,
     "metadata": {},
     "output_type": "execute_result"
    }
   ],
   "source": [
    "# انشاء مصفوفه ب ارقام عشويه من صفر الى واحد و انت تحدد الابعاد المصفوفه\n",
    "np.random.rand(2,2) #array 2 rows, 2 column and the element from 0 to 1"
   ]
  },
  {
   "cell_type": "code",
   "execution_count": 37,
   "id": "aboriginal-automation",
   "metadata": {},
   "outputs": [
    {
     "data": {
      "text/plain": [
       "array([[4, 0, 1, 0],\n",
       "       [2, 4, 0, 2],\n",
       "       [1, 1, 2, 4],\n",
       "       [2, 0, 3, 1]])"
      ]
     },
     "execution_count": 37,
     "metadata": {},
     "output_type": "execute_result"
    }
   ],
   "source": [
    "# انشاء مصفوفه برقم صحيح وانت تحدد اعلى رقم تريده\n",
    "np.random.randint(5,size=(4,4)) # مصفوفه ذات 4 صفوف و 4 اعمده وايضا اعلى قيمه 5 اذا ارقام عشوائيه من صفر الى 5"
   ]
  },
  {
   "cell_type": "code",
   "execution_count": 39,
   "id": "quarterly-marker",
   "metadata": {},
   "outputs": [
    {
     "name": "stdout",
     "output_type": "stream",
     "text": [
      "[[ 1  3  5  9]\n",
      " [10 15  6  8]]\n"
     ]
    }
   ],
   "source": [
    "# انشاء مصفوفه ذات بعدين\n",
    "arr= np.array([[1,3,5,9],[10,15,6,8]])\n",
    "print (arr)"
   ]
  },
  {
   "cell_type": "code",
   "execution_count": 45,
   "id": "extensive-andorra",
   "metadata": {},
   "outputs": [
    {
     "data": {
      "text/plain": [
       "2"
      ]
     },
     "execution_count": 45,
     "metadata": {},
     "output_type": "execute_result"
    }
   ],
   "source": [
    "#ابعاد المصفوفه معرفه /عرض \n",
    "np.ndim(arr)  # استخدم فنكشن  ndim"
   ]
  },
  {
   "cell_type": "code",
   "execution_count": 72,
   "id": "direct-posting",
   "metadata": {},
   "outputs": [
    {
     "data": {
      "text/plain": [
       "array([ 1,  3,  5,  6,  8,  9, 10, 15])"
      ]
     },
     "execution_count": 72,
     "metadata": {},
     "output_type": "execute_result"
    }
   ],
   "source": [
    "#عرض العناصر الغير مكرره يونيك\n",
    "np.unique(arr)  #استخدم فنكشن unique"
   ]
  },
  {
   "cell_type": "code",
   "execution_count": 46,
   "id": "significant-vatican",
   "metadata": {},
   "outputs": [
    {
     "data": {
      "text/plain": [
       "(2, 4)"
      ]
     },
     "execution_count": 46,
     "metadata": {},
     "output_type": "execute_result"
    }
   ],
   "source": [
    "#عرض شكل المصوصفه و الابعاد\n",
    "np.shape(arr) #استخدم فنكشن shape ,لدينا 2 صف و 4 اعمده"
   ]
  },
  {
   "cell_type": "code",
   "execution_count": 48,
   "id": "systematic-picture",
   "metadata": {},
   "outputs": [
    {
     "data": {
      "text/plain": [
       "8"
      ]
     },
     "execution_count": 48,
     "metadata": {},
     "output_type": "execute_result"
    }
   ],
   "source": [
    "#عرض كم عدد العناصر في المصفوفه\n",
    "np.size(arr)  #استخدم فنكشن size, لدينا 8 عناصر"
   ]
  },
  {
   "cell_type": "code",
   "execution_count": 52,
   "id": "enhanced-climb",
   "metadata": {},
   "outputs": [
    {
     "data": {
      "text/plain": [
       "dtype('int32')"
      ]
     },
     "execution_count": 52,
     "metadata": {},
     "output_type": "execute_result"
    }
   ],
   "source": [
    "#عرض نوع الداتا\n",
    "arr.dtype # استخدم فنكشن داتا تايب"
   ]
  },
  {
   "cell_type": "code",
   "execution_count": 58,
   "id": "rental-enclosure",
   "metadata": {},
   "outputs": [
    {
     "data": {
      "text/plain": [
       "dtype('bool')"
      ]
     },
     "execution_count": 58,
     "metadata": {},
     "output_type": "execute_result"
    }
   ],
   "source": [
    "#يمكن انشاء مصفوفات تحتوي على لوجيك صح و خطا \n",
    "bol= np.array([True, False,False, False, True]) \n",
    "bol.dtype # نوع الداتا تايب بولين "
   ]
  },
  {
   "cell_type": "code",
   "execution_count": 54,
   "id": "alpine-somewhere",
   "metadata": {},
   "outputs": [
    {
     "data": {
      "text/plain": [
       "array([[ 8,  6, 15, 10],\n",
       "       [ 9,  5,  3,  1]])"
      ]
     },
     "execution_count": 54,
     "metadata": {},
     "output_type": "execute_result"
    }
   ],
   "source": [
    "# يمكن قلب المصفوفه\n",
    "np.flip(arr)"
   ]
  },
  {
   "cell_type": "code",
   "execution_count": 87,
   "id": "transsexual-artist",
   "metadata": {},
   "outputs": [
    {
     "data": {
      "text/plain": [
       "array([[ 1,  3,  5,  9],\n",
       "       [10, 15,  6,  8]])"
      ]
     },
     "execution_count": 87,
     "metadata": {},
     "output_type": "execute_result"
    }
   ],
   "source": [
    "#عرض المصفوفه مره اخرى\n",
    "arr"
   ]
  },
  {
   "cell_type": "code",
   "execution_count": 88,
   "id": "comprehensive-interview",
   "metadata": {},
   "outputs": [
    {
     "data": {
      "text/plain": [
       "array([10, 15,  6,  8])"
      ]
     },
     "execution_count": 88,
     "metadata": {},
     "output_type": "execute_result"
    }
   ],
   "source": [
    "#عرض العناصر حسب تحديد الموقع صفر اول صف و 1 ثاني صف\n",
    "arr[1] # ثاني صف"
   ]
  },
  {
   "cell_type": "code",
   "execution_count": 106,
   "id": "lesbian-impossible",
   "metadata": {},
   "outputs": [
    {
     "data": {
      "text/plain": [
       "array([ 3, 15])"
      ]
     },
     "execution_count": 106,
     "metadata": {},
     "output_type": "execute_result"
    }
   ],
   "source": [
    "# [عامود,صف]\n",
    "# عرض كل الصفوف : , و اول عامود \n",
    "arr[:,1]"
   ]
  },
  {
   "cell_type": "code",
   "execution_count": 95,
   "id": "irish-sandwich",
   "metadata": {},
   "outputs": [
    {
     "data": {
      "text/plain": [
       "6"
      ]
     },
     "execution_count": 95,
     "metadata": {},
     "output_type": "execute_result"
    }
   ],
   "source": [
    "# عرض العناصر حسب الموقع المحدد صف اول و العامود الثاني \n",
    "arr[1,2]"
   ]
  },
  {
   "cell_type": "code",
   "execution_count": 96,
   "id": "subjective-northern",
   "metadata": {},
   "outputs": [
    {
     "data": {
      "text/plain": [
       "array([[ 1, 10],\n",
       "       [ 3, 15],\n",
       "       [ 5,  6],\n",
       "       [ 9,  8]])"
      ]
     },
     "execution_count": 96,
     "metadata": {},
     "output_type": "execute_result"
    }
   ],
   "source": [
    "#يمكن قلب المصفوفه\n",
    "np.transpose(arr)"
   ]
  },
  {
   "cell_type": "code",
   "execution_count": 101,
   "id": "adaptive-collapse",
   "metadata": {},
   "outputs": [
    {
     "data": {
      "text/plain": [
       "array([[ 1,  3,  5,  9, 10],\n",
       "       [15,  6,  8,  1,  3],\n",
       "       [ 5,  9, 10, 15,  6],\n",
       "       [ 8,  1,  3,  5,  9],\n",
       "       [10, 15,  6,  8,  1]])"
      ]
     },
     "execution_count": 101,
     "metadata": {},
     "output_type": "execute_result"
    }
   ],
   "source": [
    "# يمكن تكبير حجم المصفوفه وتكرار العناصر مره اخرى\n",
    "np.resize(arr,(5,5))"
   ]
  },
  {
   "cell_type": "code",
   "execution_count": 102,
   "id": "proof-supplement",
   "metadata": {},
   "outputs": [
    {
     "data": {
      "text/plain": [
       "array([ 1,  3,  5,  9, 10, 15,  6,  8,  1,  5,  6])"
      ]
     },
     "execution_count": 102,
     "metadata": {},
     "output_type": "execute_result"
    }
   ],
   "source": [
    "# اضافه عناصر الى المصفوفه من خلال فنكشن ابند\n",
    "np.append(arr,(1,5,6))"
   ]
  },
  {
   "cell_type": "code",
   "execution_count": 105,
   "id": "spread-ferry",
   "metadata": {},
   "outputs": [
    {
     "data": {
      "text/plain": [
       "array([ 1,  5,  9, 10, 15,  6,  8])"
      ]
     },
     "execution_count": 105,
     "metadata": {},
     "output_type": "execute_result"
    }
   ],
   "source": [
    "#يمكن حذف عناصر من المصفوفه\n",
    "np.delete(arr,[1,1]) "
   ]
  },
  {
   "cell_type": "code",
   "execution_count": 62,
   "id": "lesbian-agent",
   "metadata": {},
   "outputs": [
    {
     "name": "stdout",
     "output_type": "stream",
     "text": [
      "[1 2 3 4 5]\n",
      "[ 4  5  8  9 10]\n"
     ]
    }
   ],
   "source": [
    "# الرجوع الى عناصر المصفوفه اكس و واي الذي تم تعريفهم في البدايه\n",
    "print (x)\n",
    "print (y)"
   ]
  },
  {
   "cell_type": "code",
   "execution_count": 65,
   "id": "confirmed-independence",
   "metadata": {},
   "outputs": [
    {
     "name": "stdout",
     "output_type": "stream",
     "text": [
      "[ 5  7 11 13 15]\n",
      "[-3 -3 -5 -5 -5]\n",
      "[0.25       0.4        0.375      0.44444444 0.5       ]\n",
      "[ 4 10 24 36 50]\n"
     ]
    }
   ],
   "source": [
    "#يمكن اجراء اي عمليات حسابيه على المصفوفات \n",
    "# طرح,قسمه,ضرب,جمع\n",
    "\n",
    "print (x + y )  #جمع\n",
    "print ( x - y )  #طرح\n",
    "print (x / y  ) #قسمه\n",
    "print (x * y )  #ضرب"
   ]
  },
  {
   "cell_type": "code",
   "execution_count": 67,
   "id": "ideal-passport",
   "metadata": {},
   "outputs": [
    {
     "name": "stdout",
     "output_type": "stream",
     "text": [
      "[ 0.84147098  0.90929743  0.14112001 -0.7568025  -0.95892427]\n",
      "[1.         1.41421356 1.73205081 2.         2.23606798]\n",
      "[-0.65364362  0.28366219 -0.14550003 -0.91113026 -0.83907153]\n",
      "[1.38629436 1.60943791 2.07944154 2.19722458 2.30258509]\n"
     ]
    }
   ],
   "source": [
    "# يمكن اجراء العديد من العمليات الرياضيه, like sin, sqrt, cos, log ...\n",
    "print (np.sin(x) )\n",
    "print (np.sqrt(x) )\n",
    "print (np.cos(y) )\n",
    "print (np.log(y) )\n"
   ]
  },
  {
   "cell_type": "code",
   "execution_count": 70,
   "id": "aggressive-convertible",
   "metadata": {},
   "outputs": [
    {
     "name": "stdout",
     "output_type": "stream",
     "text": [
      "[1 2 3 4 5]\n",
      "The Sum : 15\n",
      "The Minimum :  1\n",
      "The Maximum  5\n",
      "The Average : 3.0\n",
      "The Median :  3.0\n",
      "The Sort the array :  [1 2 3 4 5]\n"
     ]
    }
   ],
   "source": [
    "# يمكن استخدام فنكشن ل الاحصاء جمع اقل و اكبر قيمه متوسط وترتيب القيم ايضا\n",
    "print (x)\n",
    "\n",
    "print (\"The Sum :\",np.sum(x) )\n",
    "print (\"The Minimum : \",np.min(x) )\n",
    "print (\"The Maximum \",np.max(x) )\n",
    "\n",
    "print (\"The Average :\",np.mean(x) )\n",
    "print (\"The Median : \" , np.median(x) )\n",
    "print (\"The Sort the array : \" , np.sort(x) )"
   ]
  },
  {
   "cell_type": "markdown",
   "id": "happy-cleanup",
   "metadata": {},
   "source": [
    "* اذا كان لدي اي سؤال تواصل معنا : Qusay AL-Btoush\n",
    "\n",
    "* [https://github.com/qusaybtoush](http://)\n",
    "* [https://www.linkedin.com/in/qusayal-btoush/](http://)\n",
    "* [https://www.kaggle.com/qusaybtoush1990](http://)\n"
   ]
  }
 ],
 "metadata": {
  "kernelspec": {
   "display_name": "Python 3",
   "language": "python",
   "name": "python3"
  },
  "language_info": {
   "codemirror_mode": {
    "name": "ipython",
    "version": 3
   },
   "file_extension": ".py",
   "mimetype": "text/x-python",
   "name": "python",
   "nbconvert_exporter": "python",
   "pygments_lexer": "ipython3",
   "version": "3.8.5"
  }
 },
 "nbformat": 4,
 "nbformat_minor": 5
}
